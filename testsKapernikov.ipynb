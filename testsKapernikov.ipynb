{
 "cells": [
  {
   "cell_type": "markdown",
   "id": "casual-indication",
   "metadata": {},
   "source": [
    "**Modules pour charger les données dans Spark:**"
   ]
  },
  {
   "cell_type": "code",
   "execution_count": 1,
   "id": "behavioral-congress",
   "metadata": {},
   "outputs": [],
   "source": [
    "#import obligatoires\n",
    "import findspark\n",
    "from pyspark.sql import SparkSession\n",
    "import pyspark\n",
    "\n",
    "\n",
    "#Initialisation de findspark:\n",
    "\n",
    "findspark.init()\n",
    "#%matplotlib notebook\n",
    "\n",
    "#Récupération de SparkContext\n",
    "sc = pyspark.SparkContext(appName=\"Pi\")\n",
    "spark = SparkSession.builder.appName(\"SimpleApp\").getOrCreate()"
   ]
  },
  {
   "cell_type": "markdown",
   "id": "hazardous-perth",
   "metadata": {},
   "source": [
    "**Chargement des données:**"
   ]
  },
  {
   "cell_type": "code",
   "execution_count": null,
   "id": "destroyed-intention",
   "metadata": {},
   "outputs": [],
   "source": [
    "#Lecture du dataframe\n",
    "data = spark.read.csv(\"data.csv\", header=True, sep=\",\")"
   ]
  },
  {
   "cell_type": "markdown",
   "id": "binding-burden",
   "metadata": {},
   "source": [
    "**Affichage des différents colonnes:**"
   ]
  },
  {
   "cell_type": "code",
   "execution_count": 4,
   "id": "downtown-thong",
   "metadata": {},
   "outputs": [
    {
     "data": {
      "text/plain": [
       "DataFrame[ID: string, URL: string, CRAWL_SOURCE: string, PROPERTY_TYPE: string, NEW_BUILD: string, DESCRIPTION: string, IMAGES: string, SURFACE: string, LAND_SURFACE: string, BALCONY_SURFACE: string, TERRACE_SURFACE: string, ROOM_COUNT: string, BEDROOM_COUNT: string, BATHROOM_COUNT: string, LUNCHROOM_COUNT: string, TOILET_COUNT: string, FURNISHED: string, FIREPLACE: string, AIR_CONDITIONING: string, GARDEN: string, SWIMMING_POOL: string, BALCONY: string, TERRACE: string, CELLAR: string, PARKING: string, PARKING_COUNT: string, HEATING_TYPES: string, HEATING_MODE: string, FLOOR: string, FLOOR_COUNT: string, CONSTRUCTION_YEAR: string, ELEVATOR: string, CARETAKER: string, ENERGY_CONSUMPTION: string, GREENHOUSE_GAS_CONSUMPTION: string, MARKETING_TYPE: string, PRICE: string, PRICE_M2: string, PRICE_EVENTS: string, RENTAL_EXPENSES: string, RENTAL_EXPENSES_INCLUDED: string, DEPOSIT: string, FEES: string, FEES_INCLUDED: string, EXCLUSIVE_MANDATE: string, AGENCIES_UNWANTED: string, OCCUPIED: string, DEALER_NAME: string, DEALER_TYPE: string, CITY_ID: string, CITY: string, ZIP_CODE: string, DEPT_CODE: string, PUBLICATION_START_DATE: string, PUBLICATION_END_DATE: string, LAST_CRAWL_DATE: string, LAST_PRICE_DECREASE_DATE: string]"
      ]
     },
     "execution_count": 4,
     "metadata": {},
     "output_type": "execute_result"
    }
   ],
   "source": [
    "data"
   ]
  },
  {
   "cell_type": "markdown",
   "id": "expanded-monaco",
   "metadata": {},
   "source": [
    "# Partie Datacleansing:"
   ]
  },
  {
   "cell_type": "code",
   "execution_count": null,
   "id": "absolute-schema",
   "metadata": {},
   "outputs": [],
   "source": [
    "data.filter(\"PROPERTY_TYPE == 'PROGRAM'\").show(2)"
   ]
  },
  {
   "cell_type": "code",
   "execution_count": null,
   "id": "tribal-omega",
   "metadata": {},
   "outputs": [],
   "source": []
  }
 ],
 "metadata": {
  "kernelspec": {
   "display_name": "Python 3",
   "language": "python",
   "name": "python3"
  },
  "language_info": {
   "codemirror_mode": {
    "name": "ipython",
    "version": 3
   },
   "file_extension": ".py",
   "mimetype": "text/x-python",
   "name": "python",
   "nbconvert_exporter": "python",
   "pygments_lexer": "ipython3",
   "version": "3.8.8"
  }
 },
 "nbformat": 4,
 "nbformat_minor": 5
}
